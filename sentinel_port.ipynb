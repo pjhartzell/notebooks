{
 "cells": [
  {
   "attachments": {},
   "cell_type": "markdown",
   "metadata": {},
   "source": [
    "## Sentinel-3 and Sentinel-5p Stactools Packages"
   ]
  },
  {
   "attachments": {},
   "cell_type": "markdown",
   "metadata": {},
   "source": [
    "### Objective\n",
    "\n",
    "Update the existing [sentinel3](https://github.com/stactools-packages/sentinel3) and [sentinel5p](https://github.com/stactools-packages/sentinel5p) stactools packages to produce STAC Items matching those accessible from the Planetary Computer STAC [API](https://planetarycomputer.microsoft.com/api/stac/v1). The STAC Items describe NetCDF assets."
   ]
  },
  {
   "attachments": {},
   "cell_type": "markdown",
   "metadata": {},
   "source": [
    "### Background\n",
    "\n",
    "The Sentinel-3 [data](https://github.com/microsoft/AIforEarthDataSets/blob/main/data/sentinel-3.md) is divided by product into [12 STAC Collections](https://planetarycomputer.microsoft.com/dataset/group/sentinel-3). We'll need to create STAC Items for assets from each Collection.\n",
    "- [sentinel-3-olci-wfr-l2-netcdf](https://planetarycomputer.microsoft.com/api/stac/v1/collections/sentinel-3-olci-wfr-l2-netcdf)\n",
    "- [sentinel-3-olci-lfr-l2-netcdf](https://planetarycomputer.microsoft.com/api/stac/v1/collections/sentinel-3-olci-lfr-l2-netcdf)\n",
    "- [sentinel-3-slstr-frd-l2-netcdf](https://planetarycomputer.microsoft.com/api/stac/v1/collections/sentinel-3-slstr-frp-l2-netcdf)\n",
    "- [sentinel-3-slstr-lst-l2-netcdf](https://planetarycomputer.microsoft.com/api/stac/v1/collections/sentinel-3-slstr-lst-l2-netcdf)\n",
    "- [sentinel-3-slstr-wst-l2-netcdf](https://planetarycomputer.microsoft.com/api/stac/v1/collections/sentinel-3-slstr-wst-l2-netcdf)\n",
    "- [sentinel-3-sral-lan-l2-netcdf](https://planetarycomputer.microsoft.com/api/stac/v1/collections/sentinel-3-sral-lan-l2-netcdf)\n",
    "- [sentinel-3-sral-wat-l2-netcdf](https://planetarycomputer.microsoft.com/api/stac/v1/collections/sentinel-3-sral-wat-l2-netcdf)\n",
    "- [sentinel-3-synergy-aod-l2-netcdf](https://planetarycomputer.microsoft.com/api/stac/v1/collections/sentinel-3-synergy-aod-l2-netcdf)\n",
    "- [sentinel-3-synergy-syn-l2-netcdf](https://planetarycomputer.microsoft.com/api/stac/v1/collections/sentinel-3-synergy-syn-l2-netcdf)\n",
    "- [sentinel-3-synergy-v10-l2-netcdf](https://planetarycomputer.microsoft.com/api/stac/v1/collections/sentinel-3-synergy-v10-l2-netcdf)\n",
    "- [sentinel-3-synergy-vg1-l2-netcdf](https://planetarycomputer.microsoft.com/api/stac/v1/collections/sentinel-3-synergy-vg1-l2-netcdf)\n",
    "- [sentinel-3-synergy-vgp-l2-netcdf](https://planetarycomputer.microsoft.com/api/stac/v1/collections/sentinel-3-synergy-vgp-l2-netcdf)\n",
    "\n",
    "The Sentinel-5p [data](https://github.com/microsoft/AIforEarthDataSets/blob/main/data/sentinel-5p.md) is aggregated into [one STAC Collection](https://planetarycomputer.microsoft.com/dataset/sentinel-5p-l2-netcdf) ([sentinel-5p-l2-netcdf](https://planetarycomputer.microsoft.com/api/stac/v1/collections/sentinel-5p-l2-netcdf)), but consists of 13 different products. We'll need to create STAC Items for each product.\n",
    "- `L2__AER_AI`: Ultraviolet aerosol index\n",
    "- `L2__AER_LH`: Aerosol layer height\n",
    "- `L2__CH4___`: Methane (CH<sub>4</sub>) total column\n",
    "- `L2__CLOUD_`: Cloud fraction, albedo, and top pressure\n",
    "- `L2__CO____`: Carbon monoxide (CO) total column\n",
    "- `L2__HCHO__`: Formaldehyde (HCHO) total column\n",
    "- `L2__NO2___`: Nitrogen dioxide (NO<sub>2</sub>) total column\n",
    "- `L2__O3____`: Ozone (O<sub>3</sub>) total column\n",
    "- `L2__O3_TCL`: Ozone (O<sub>3</sub>) tropospheric column\n",
    "- `L2__SO2___`: Sulfur dioxide (SO<sub>2</sub>) total column\n",
    "- `L2__NP_BD3`: Cloud from the Suomi NPP mission, band 3\n",
    "- `L2__NP_BD6`: Cloud from the Suomi NPP mission, band 6\n",
    "- `L2__NP_BD7`: Cloud from the Suomi NPP mission, band 7\n",
    "\n",
    "STAC Item details:\n",
    "- Per Microsoft's direction, Sentinel-3 and Sentinel-5p STAC Items were derived from STAC Items provided by [Sinergise](https://www.sinergise.com/) to Microsoft.\n",
    "- The Sinergise STAC Items only exist in Azure blob storage. They were never ingested into a database or made available via a STAC API.\n",
    "- The Sinergise STAC Items are not fully featured and do not follow best practices. Consequently, the derived STAC Items may feel awkward or deficient in certain aspects.\n",
    "- The code that transforms Sinergise STAC Items into the Items on the Planetary Computer is public on GitHub:\n",
    "    - Sentinel-3: https://github.com/microsoft/planetary-computer-tasks/tree/main/datasets/sentinel-3/sentinel_3\n",
    "    - Sentinel-5p: https://github.com/microsoft/planetary-computer-tasks/blob/main/datasets/sentinel-5p/sentinel_5p.py\n"
   ]
  },
  {
   "attachments": {},
   "cell_type": "markdown",
   "metadata": {},
   "source": [
    "### Accessing STAC Items and NetCDF assets\n",
    "\n",
    "You'll likely want some example STAC and corresponding NetCDF assets. See below for an example of one way to go about that. You may also find [Pete's Planetary Computer downloader](https://github.com/gadomski/pc-rs) useful, but you'll need some Item IDs to use it."
   ]
  },
  {
   "cell_type": "code",
   "execution_count": null,
   "metadata": {},
   "outputs": [],
   "source": [
    "import json\n",
    "import os\n",
    "\n",
    "import planetary_computer as pc\n",
    "import pystac_client\n",
    "import requests"
   ]
  },
  {
   "attachments": {},
   "cell_type": "markdown",
   "metadata": {},
   "source": [
    "#### Sentinel-3"
   ]
  },
  {
   "cell_type": "code",
   "execution_count": 5,
   "metadata": {},
   "outputs": [],
   "source": [
    "# get an item and save it to file\n",
    "catalog = pystac_client.Client.open(\n",
    "    \"https://planetarycomputer.microsoft.com/api/stac/v1\",\n",
    "    modifier=pc.sign_inplace\n",
    ")\n",
    "search = catalog.search(\n",
    "    collections=\"sentinel-3-olci-wfr-l2-netcdf\",  # this is just one of 12 possible collections\n",
    "    query={\n",
    "        \"s3:processing_timeliness\": {\"eq\": \"NT\"},  # There are also \"ST\" and \"NR\" products\n",
    "    },\n",
    "    limit=1\n",
    ")\n",
    "item = next(search.get_items())\n",
    "\n",
    "os.mkdir(item.id)\n",
    "with open(os.path.join(item.id, \"item.json\"), \"w\") as f:\n",
    "    f.write(json.dumps(item.to_dict(), indent=2))\n",
    "\n"
   ]
  },
  {
   "cell_type": "code",
   "execution_count": 6,
   "metadata": {},
   "outputs": [],
   "source": [
    "# download the item assets\n",
    "for asset in item.assets.values():\n",
    "    file_name = asset.href.split(\"?\")[0].split(\"/\")[-1]\n",
    "    local_path = os.path.join(item.id, file_name)\n",
    "    with requests.get(asset.href, stream=True) as r:\n",
    "        r.raise_for_status()\n",
    "        with open(local_path, \"wb\") as f:\n",
    "            for chunk in r.iter_content(chunk_size=8192):\n",
    "                f.write(chunk)"
   ]
  },
  {
   "attachments": {},
   "cell_type": "markdown",
   "metadata": {},
   "source": [
    "#### Sentinel-5p"
   ]
  },
  {
   "cell_type": "code",
   "execution_count": null,
   "metadata": {},
   "outputs": [],
   "source": [
    "# get an item and save it to file\n",
    "catalog = pystac_client.Client.open(\n",
    "    \"https://planetarycomputer.microsoft.com/api/stac/v1\",\n",
    "    modifier=pc.sign_inplace\n",
    ")\n",
    "search = catalog.search(\n",
    "    collections=\"sentinel-5p-l2-netcdf\",\n",
    "    query={\n",
    "        \"s5p:product_type\": {\"eq\": \"L2__AER_AI\"},  # this is just one of 13 product types\n",
    "        \"s5p:processing_mode\": {\"eq\": \"OFFL\"},  # there are also \"NRTI\" and \"RPRO\" products\n",
    "    },\n",
    "    limit=1\n",
    ")\n",
    "item = next(search.get_items())\n",
    "\n",
    "os.mkdir(item.id)\n",
    "with open(os.path.join(item.id, \"item.json\"), \"w\") as f:\n",
    "    f.write(json.dumps(item.to_dict(), indent=2))"
   ]
  },
  {
   "cell_type": "code",
   "execution_count": null,
   "metadata": {},
   "outputs": [],
   "source": [
    "# download the item assets\n",
    "for asset in item.assets.values():\n",
    "    file_name = asset.href.split(\"?\")[0].split(\"/\")[-1]\n",
    "    local_path = os.path.join(item.id, file_name)\n",
    "    with requests.get(asset.href, stream=True) as r:\n",
    "        r.raise_for_status()\n",
    "        with open(local_path, \"wb\") as f:\n",
    "            for chunk in r.iter_content(chunk_size=8192):\n",
    "                f.write(chunk)"
   ]
  }
 ],
 "metadata": {
  "kernelspec": {
   "display_name": "chalkboard-notebooks",
   "language": "python",
   "name": "python3"
  },
  "language_info": {
   "codemirror_mode": {
    "name": "ipython",
    "version": 3
   },
   "file_extension": ".py",
   "mimetype": "text/x-python",
   "name": "python",
   "nbconvert_exporter": "python",
   "pygments_lexer": "ipython3",
   "version": "3.11.1"
  },
  "orig_nbformat": 4
 },
 "nbformat": 4,
 "nbformat_minor": 2
}
